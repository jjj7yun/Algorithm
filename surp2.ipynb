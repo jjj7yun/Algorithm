{
  "nbformat": 4,
  "nbformat_minor": 0,
  "metadata": {
    "colab": {
      "name": "surp2.ipynb",
      "provenance": [],
      "authorship_tag": "ABX9TyO3omMW6gQd1uZS2r6w3Fka",
      "include_colab_link": true
    },
    "kernelspec": {
      "name": "python3",
      "display_name": "Python 3"
    },
    "language_info": {
      "name": "python"
    }
  },
  "cells": [
    {
      "cell_type": "markdown",
      "metadata": {
        "id": "view-in-github",
        "colab_type": "text"
      },
      "source": [
        "<a href=\"https://colab.research.google.com/github/jjj7yun/Algorithm/blob/main/surp2.ipynb\" target=\"_parent\"><img src=\"https://colab.research.google.com/assets/colab-badge.svg\" alt=\"Open In Colab\"/></a>"
      ]
    },
    {
      "cell_type": "code",
      "source": [
        "from google.colab import drive\n",
        "drive.mount('/content/drive')"
      ],
      "metadata": {
        "colab": {
          "base_uri": "https://localhost:8080/"
        },
        "id": "A1O2HCJ1Fg7K",
        "outputId": "8d854ab6-41aa-490d-e510-ede5a58c5a5e"
      },
      "execution_count": 3,
      "outputs": [
        {
          "output_type": "stream",
          "name": "stdout",
          "text": [
            "Mounted at /content/drive\n"
          ]
        }
      ]
    },
    {
      "cell_type": "code",
      "source": [
        "%cd /content/drive/MyDrive/논문/jupyter"
      ],
      "metadata": {
        "colab": {
          "base_uri": "https://localhost:8080/"
        },
        "id": "0-nGxoP4GIbM",
        "outputId": "a77ade80-84f4-4e76-a972-144c59a208a0"
      },
      "execution_count": 5,
      "outputs": [
        {
          "output_type": "stream",
          "name": "stdout",
          "text": [
            "/content/drive/MyDrive/논문/jupyter\n"
          ]
        }
      ]
    },
    {
      "cell_type": "code",
      "execution_count": 1,
      "metadata": {
        "colab": {
          "base_uri": "https://localhost:8080/"
        },
        "id": "UD3B2masFNoz",
        "outputId": "fcaff3e6-9d87-4290-b378-84f5e81f95c2"
      },
      "outputs": [
        {
          "output_type": "stream",
          "name": "stdout",
          "text": [
            "Collecting scikit-surprise\n",
            "  Downloading scikit-surprise-1.1.1.tar.gz (11.8 MB)\n",
            "\u001b[K     |████████████████████████████████| 11.8 MB 29.4 MB/s \n",
            "\u001b[?25hRequirement already satisfied: joblib>=0.11 in /usr/local/lib/python3.7/dist-packages (from scikit-surprise) (1.1.0)\n",
            "Requirement already satisfied: numpy>=1.11.2 in /usr/local/lib/python3.7/dist-packages (from scikit-surprise) (1.21.6)\n",
            "Requirement already satisfied: scipy>=1.0.0 in /usr/local/lib/python3.7/dist-packages (from scikit-surprise) (1.4.1)\n",
            "Requirement already satisfied: six>=1.10.0 in /usr/local/lib/python3.7/dist-packages (from scikit-surprise) (1.15.0)\n",
            "Building wheels for collected packages: scikit-surprise\n",
            "  Building wheel for scikit-surprise (setup.py) ... \u001b[?25l\u001b[?25hdone\n",
            "  Created wheel for scikit-surprise: filename=scikit_surprise-1.1.1-cp37-cp37m-linux_x86_64.whl size=1630185 sha256=7228056222c452bebf771c2630ebce589df4e90835b53614fb2934199cc3814e\n",
            "  Stored in directory: /root/.cache/pip/wheels/76/44/74/b498c42be47b2406bd27994e16c5188e337c657025ab400c1c\n",
            "Successfully built scikit-surprise\n",
            "Installing collected packages: scikit-surprise\n",
            "Successfully installed scikit-surprise-1.1.1\n"
          ]
        }
      ],
      "source": [
        "!pip --trusted-host pypi.org --trusted-host files.pythonhosted.org install scikit-surprise"
      ]
    },
    {
      "cell_type": "code",
      "source": [
        "from sklearn.feature_extraction.text import CountVectorizer, TfidfVectorizer\n",
        "from sklearn.decomposition import TruncatedSVD\n",
        "from sklearn.cluster import KMeans, MiniBatchKMeans\n",
        "from scipy.spatial.distance import euclidean\n",
        "from sklearn.metrics.pairwise import cosine_similarity\n",
        "from sklearn.preprocessing import MinMaxScaler\n",
        "import warnings\n",
        "warnings.filterwarnings('ignore')\n",
        "\n",
        "import pandas as pd\n",
        "import numpy as np\n",
        "\n",
        "from surprise import Dataset\n",
        "from surprise.model_selection import train_test_split\n",
        "import pandas as pd\n",
        "import os\n",
        "from surprise import Reader\n",
        "from surprise.model_selection import train_test_split\n",
        "from surprise import SVD\n",
        "from surprise import Dataset\n",
        "from surprise import accuracy\n",
        "from surprise.model_selection import train_test_split\n",
        "from surprise import accuracy\n",
        "from surprise.model_selection import GridSearchCV"
      ],
      "metadata": {
        "id": "hKr5MCwLFR5T"
      },
      "execution_count": 4,
      "outputs": []
    },
    {
      "cell_type": "code",
      "source": [
        "!python surp_1.ipynb"
      ],
      "metadata": {
        "colab": {
          "base_uri": "https://localhost:8080/"
        },
        "id": "0u6nCYKqFefk",
        "outputId": "52c50dde-8f41-4ca2-f8e5-837682067e48"
      },
      "execution_count": 7,
      "outputs": [
        {
          "output_type": "stream",
          "name": "stdout",
          "text": [
            "Traceback (most recent call last):\n",
            "  File \"surp_1.ipynb\", line 209, in <module>\n",
            "    \"execution_count\": null,\n",
            "NameError: name 'null' is not defined\n"
          ]
        }
      ]
    },
    {
      "cell_type": "code",
      "source": [
        "book =pd.read_csv('./data/bookrating_end.csv')"
      ],
      "metadata": {
        "id": "qwLx_6BfGfO7"
      },
      "execution_count": 8,
      "outputs": []
    },
    {
      "cell_type": "code",
      "source": [
        "book.head()"
      ],
      "metadata": {
        "colab": {
          "base_uri": "https://localhost:8080/",
          "height": 206
        },
        "id": "lkq7l2jwGwOZ",
        "outputId": "e6d4b534-c2db-4be5-d034-ca4010fbc5e4"
      },
      "execution_count": 9,
      "outputs": [
        {
          "output_type": "execute_result",
          "data": {
            "text/plain": [
              "   Unnamed: 0                                    filename         userid  \\\n",
              "0           0  24BqEWE785rjn:contents:books:ratings .xlsx  24BqEWE785rjn   \n",
              "1           1   2mwvgYmarxMa7:contents:books:ratings.xlsx  2mwvgYmarxMa7   \n",
              "2           2  6NW5Qb02wx1Yo:contents:books:ratings .xlsx  6NW5Qb02wx1Yo   \n",
              "3           3  6NW5QzzJkx1Yo:contents:books:ratings .xlsx  6NW5QzzJkx1Yo   \n",
              "4           4   JgAx88jRVxLbO:contents:books:ratings.xlsx  JgAx88jRVxLbO   \n",
              "\n",
              "  title  rating content   author  \\\n",
              "0    변신     4.0   books  프란츠 카프카   \n",
              "1    변신     1.0   books  프란츠 카프카   \n",
              "2    변신     3.0   books  프란츠 카프카   \n",
              "3    변신     4.5   books  프란츠 카프카   \n",
              "4    변신     3.5   books  프란츠 카프카   \n",
              "\n",
              "                                                plot  \n",
              "0  밀란 쿤데라는 카프카의 작품을 두고 '검은색의 기이한 아름다움'이라 표현했다. <변...  \n",
              "1  밀란 쿤데라는 카프카의 작품을 두고 '검은색의 기이한 아름다움'이라 표현했다. <변...  \n",
              "2  밀란 쿤데라는 카프카의 작품을 두고 '검은색의 기이한 아름다움'이라 표현했다. <변...  \n",
              "3  밀란 쿤데라는 카프카의 작품을 두고 '검은색의 기이한 아름다움'이라 표현했다. <변...  \n",
              "4  밀란 쿤데라는 카프카의 작품을 두고 '검은색의 기이한 아름다움'이라 표현했다. <변...  "
            ],
            "text/html": [
              "\n",
              "  <div id=\"df-062285b8-6d56-4784-8735-848d185cd3f9\">\n",
              "    <div class=\"colab-df-container\">\n",
              "      <div>\n",
              "<style scoped>\n",
              "    .dataframe tbody tr th:only-of-type {\n",
              "        vertical-align: middle;\n",
              "    }\n",
              "\n",
              "    .dataframe tbody tr th {\n",
              "        vertical-align: top;\n",
              "    }\n",
              "\n",
              "    .dataframe thead th {\n",
              "        text-align: right;\n",
              "    }\n",
              "</style>\n",
              "<table border=\"1\" class=\"dataframe\">\n",
              "  <thead>\n",
              "    <tr style=\"text-align: right;\">\n",
              "      <th></th>\n",
              "      <th>Unnamed: 0</th>\n",
              "      <th>filename</th>\n",
              "      <th>userid</th>\n",
              "      <th>title</th>\n",
              "      <th>rating</th>\n",
              "      <th>content</th>\n",
              "      <th>author</th>\n",
              "      <th>plot</th>\n",
              "    </tr>\n",
              "  </thead>\n",
              "  <tbody>\n",
              "    <tr>\n",
              "      <th>0</th>\n",
              "      <td>0</td>\n",
              "      <td>24BqEWE785rjn:contents:books:ratings .xlsx</td>\n",
              "      <td>24BqEWE785rjn</td>\n",
              "      <td>변신</td>\n",
              "      <td>4.0</td>\n",
              "      <td>books</td>\n",
              "      <td>프란츠 카프카</td>\n",
              "      <td>밀란 쿤데라는 카프카의 작품을 두고 '검은색의 기이한 아름다움'이라 표현했다. &lt;변...</td>\n",
              "    </tr>\n",
              "    <tr>\n",
              "      <th>1</th>\n",
              "      <td>1</td>\n",
              "      <td>2mwvgYmarxMa7:contents:books:ratings.xlsx</td>\n",
              "      <td>2mwvgYmarxMa7</td>\n",
              "      <td>변신</td>\n",
              "      <td>1.0</td>\n",
              "      <td>books</td>\n",
              "      <td>프란츠 카프카</td>\n",
              "      <td>밀란 쿤데라는 카프카의 작품을 두고 '검은색의 기이한 아름다움'이라 표현했다. &lt;변...</td>\n",
              "    </tr>\n",
              "    <tr>\n",
              "      <th>2</th>\n",
              "      <td>2</td>\n",
              "      <td>6NW5Qb02wx1Yo:contents:books:ratings .xlsx</td>\n",
              "      <td>6NW5Qb02wx1Yo</td>\n",
              "      <td>변신</td>\n",
              "      <td>3.0</td>\n",
              "      <td>books</td>\n",
              "      <td>프란츠 카프카</td>\n",
              "      <td>밀란 쿤데라는 카프카의 작품을 두고 '검은색의 기이한 아름다움'이라 표현했다. &lt;변...</td>\n",
              "    </tr>\n",
              "    <tr>\n",
              "      <th>3</th>\n",
              "      <td>3</td>\n",
              "      <td>6NW5QzzJkx1Yo:contents:books:ratings .xlsx</td>\n",
              "      <td>6NW5QzzJkx1Yo</td>\n",
              "      <td>변신</td>\n",
              "      <td>4.5</td>\n",
              "      <td>books</td>\n",
              "      <td>프란츠 카프카</td>\n",
              "      <td>밀란 쿤데라는 카프카의 작품을 두고 '검은색의 기이한 아름다움'이라 표현했다. &lt;변...</td>\n",
              "    </tr>\n",
              "    <tr>\n",
              "      <th>4</th>\n",
              "      <td>4</td>\n",
              "      <td>JgAx88jRVxLbO:contents:books:ratings.xlsx</td>\n",
              "      <td>JgAx88jRVxLbO</td>\n",
              "      <td>변신</td>\n",
              "      <td>3.5</td>\n",
              "      <td>books</td>\n",
              "      <td>프란츠 카프카</td>\n",
              "      <td>밀란 쿤데라는 카프카의 작품을 두고 '검은색의 기이한 아름다움'이라 표현했다. &lt;변...</td>\n",
              "    </tr>\n",
              "  </tbody>\n",
              "</table>\n",
              "</div>\n",
              "      <button class=\"colab-df-convert\" onclick=\"convertToInteractive('df-062285b8-6d56-4784-8735-848d185cd3f9')\"\n",
              "              title=\"Convert this dataframe to an interactive table.\"\n",
              "              style=\"display:none;\">\n",
              "        \n",
              "  <svg xmlns=\"http://www.w3.org/2000/svg\" height=\"24px\"viewBox=\"0 0 24 24\"\n",
              "       width=\"24px\">\n",
              "    <path d=\"M0 0h24v24H0V0z\" fill=\"none\"/>\n",
              "    <path d=\"M18.56 5.44l.94 2.06.94-2.06 2.06-.94-2.06-.94-.94-2.06-.94 2.06-2.06.94zm-11 1L8.5 8.5l.94-2.06 2.06-.94-2.06-.94L8.5 2.5l-.94 2.06-2.06.94zm10 10l.94 2.06.94-2.06 2.06-.94-2.06-.94-.94-2.06-.94 2.06-2.06.94z\"/><path d=\"M17.41 7.96l-1.37-1.37c-.4-.4-.92-.59-1.43-.59-.52 0-1.04.2-1.43.59L10.3 9.45l-7.72 7.72c-.78.78-.78 2.05 0 2.83L4 21.41c.39.39.9.59 1.41.59.51 0 1.02-.2 1.41-.59l7.78-7.78 2.81-2.81c.8-.78.8-2.07 0-2.86zM5.41 20L4 18.59l7.72-7.72 1.47 1.35L5.41 20z\"/>\n",
              "  </svg>\n",
              "      </button>\n",
              "      \n",
              "  <style>\n",
              "    .colab-df-container {\n",
              "      display:flex;\n",
              "      flex-wrap:wrap;\n",
              "      gap: 12px;\n",
              "    }\n",
              "\n",
              "    .colab-df-convert {\n",
              "      background-color: #E8F0FE;\n",
              "      border: none;\n",
              "      border-radius: 50%;\n",
              "      cursor: pointer;\n",
              "      display: none;\n",
              "      fill: #1967D2;\n",
              "      height: 32px;\n",
              "      padding: 0 0 0 0;\n",
              "      width: 32px;\n",
              "    }\n",
              "\n",
              "    .colab-df-convert:hover {\n",
              "      background-color: #E2EBFA;\n",
              "      box-shadow: 0px 1px 2px rgba(60, 64, 67, 0.3), 0px 1px 3px 1px rgba(60, 64, 67, 0.15);\n",
              "      fill: #174EA6;\n",
              "    }\n",
              "\n",
              "    [theme=dark] .colab-df-convert {\n",
              "      background-color: #3B4455;\n",
              "      fill: #D2E3FC;\n",
              "    }\n",
              "\n",
              "    [theme=dark] .colab-df-convert:hover {\n",
              "      background-color: #434B5C;\n",
              "      box-shadow: 0px 1px 3px 1px rgba(0, 0, 0, 0.15);\n",
              "      filter: drop-shadow(0px 1px 2px rgba(0, 0, 0, 0.3));\n",
              "      fill: #FFFFFF;\n",
              "    }\n",
              "  </style>\n",
              "\n",
              "      <script>\n",
              "        const buttonEl =\n",
              "          document.querySelector('#df-062285b8-6d56-4784-8735-848d185cd3f9 button.colab-df-convert');\n",
              "        buttonEl.style.display =\n",
              "          google.colab.kernel.accessAllowed ? 'block' : 'none';\n",
              "\n",
              "        async function convertToInteractive(key) {\n",
              "          const element = document.querySelector('#df-062285b8-6d56-4784-8735-848d185cd3f9');\n",
              "          const dataTable =\n",
              "            await google.colab.kernel.invokeFunction('convertToInteractive',\n",
              "                                                     [key], {});\n",
              "          if (!dataTable) return;\n",
              "\n",
              "          const docLinkHtml = 'Like what you see? Visit the ' +\n",
              "            '<a target=\"_blank\" href=https://colab.research.google.com/notebooks/data_table.ipynb>data table notebook</a>'\n",
              "            + ' to learn more about interactive tables.';\n",
              "          element.innerHTML = '';\n",
              "          dataTable['output_type'] = 'display_data';\n",
              "          await google.colab.output.renderOutput(dataTable, element);\n",
              "          const docLink = document.createElement('div');\n",
              "          docLink.innerHTML = docLinkHtml;\n",
              "          element.appendChild(docLink);\n",
              "        }\n",
              "      </script>\n",
              "    </div>\n",
              "  </div>\n",
              "  "
            ]
          },
          "metadata": {},
          "execution_count": 9
        }
      ]
    },
    {
      "cell_type": "code",
      "source": [
        "data = book[['userid','title','rating']]"
      ],
      "metadata": {
        "id": "nA55pzrYGzxC"
      },
      "execution_count": 12,
      "outputs": []
    },
    {
      "cell_type": "code",
      "source": [
        "data.columns=['userId','movieId','rating']"
      ],
      "metadata": {
        "id": "cEYr708qG1Uy"
      },
      "execution_count": 13,
      "outputs": []
    },
    {
      "cell_type": "code",
      "source": [
        "reader = Reader(rating_scale=(0.5, 5))"
      ],
      "metadata": {
        "id": "bHxmUwb5G-Iz"
      },
      "execution_count": 15,
      "outputs": []
    },
    {
      "cell_type": "code",
      "source": [
        "data = Dataset.load_from_df(data[['userId','movieId','rating']],\n",
        "                           reader=reader)\n",
        "train, test = train_test_split(data, test_size=0.25, random_state=42)"
      ],
      "metadata": {
        "id": "Uc7qmm_fHBRH"
      },
      "execution_count": 16,
      "outputs": []
    },
    {
      "cell_type": "code",
      "source": [
        "algo = SVD()\n",
        "algo.fit(train)"
      ],
      "metadata": {
        "colab": {
          "base_uri": "https://localhost:8080/"
        },
        "id": "ubvgRYJOHBTk",
        "outputId": "1dc34ac9-7e00-4ed2-b90f-ef6c5d6a9bc3"
      },
      "execution_count": 17,
      "outputs": [
        {
          "output_type": "execute_result",
          "data": {
            "text/plain": [
              "<surprise.prediction_algorithms.matrix_factorization.SVD at 0x7f82ed3e3810>"
            ]
          },
          "metadata": {},
          "execution_count": 17
        }
      ]
    },
    {
      "cell_type": "code",
      "source": [
        "prediction = algo.test(test)\n",
        "print('prediction type: ', type(prediction),\n",
        "     'size: ', len(prediction))\n",
        "print()\n",
        "print('prediction 결과값 5개 미리보기')\n",
        "print(prediction[:5])"
      ],
      "metadata": {
        "colab": {
          "base_uri": "https://localhost:8080/"
        },
        "id": "VbwEbXUoHBWD",
        "outputId": "550c4d26-93b6-4402-a238-a2eef3a5e904"
      },
      "execution_count": 18,
      "outputs": [
        {
          "output_type": "stream",
          "name": "stdout",
          "text": [
            "prediction type:  <class 'list'> size:  1368\n",
            "\n",
            "prediction 결과값 5개 미리보기\n",
            "[Prediction(uid='2mwvggAE2vMa7', iid='광장/구운몽', r_ui=4.5, est=4.011658922897378, details={'was_impossible': False}), Prediction(uid='6NW5QB9Lyx1Yo', iid='왜 나는 너를 사랑하는가', r_ui=4.0, est=4.4132151436949725, details={'was_impossible': False}), Prediction(uid='ZBm5RVn735d46', iid='대성당', r_ui=4.5, est=3.9160583101778075, details={'was_impossible': False}), Prediction(uid='VRZv4BaEEnxr6', iid='카탈로니아 찬가', r_ui=4.0, est=3.8350774405760824, details={'was_impossible': False}), Prediction(uid='YMKqmwrVr5loD', iid='모순', r_ui=4.0, est=3.7584631048847084, details={'was_impossible': False})]\n"
          ]
        }
      ]
    },
    {
      "cell_type": "code",
      "source": [
        "result = [(pred.uid, pred.iid, pred.est) for pred in prediction[:5]]\n",
        "print(result)"
      ],
      "metadata": {
        "colab": {
          "base_uri": "https://localhost:8080/"
        },
        "id": "QdnNMVG7HBYc",
        "outputId": "a37d410f-d3c5-4986-e43f-f0a581464a1f"
      },
      "execution_count": 19,
      "outputs": [
        {
          "output_type": "stream",
          "name": "stdout",
          "text": [
            "[('2mwvggAE2vMa7', '광장/구운몽', 4.011658922897378), ('6NW5QB9Lyx1Yo', '왜 나는 너를 사랑하는가', 4.4132151436949725), ('ZBm5RVn735d46', '대성당', 3.9160583101778075), ('VRZv4BaEEnxr6', '카탈로니아 찬가', 3.8350774405760824), ('YMKqmwrVr5loD', '모순', 3.7584631048847084)]\n"
          ]
        }
      ]
    },
    {
      "cell_type": "code",
      "source": [
        "uid = 'JZ4vBRBaWvRXO'\n",
        "iid = '구해줘'\n",
        "pred = algo.predict(uid, iid)\n",
        "print(pred)"
      ],
      "metadata": {
        "colab": {
          "base_uri": "https://localhost:8080/"
        },
        "id": "nZnP8CBQHBax",
        "outputId": "26b5c7fd-f321-4944-8bf0-a1bc29162dec"
      },
      "execution_count": 20,
      "outputs": [
        {
          "output_type": "stream",
          "name": "stdout",
          "text": [
            "user: JZ4vBRBaWvRXO item: 구해줘        r_ui = None   est = 3.24   {'was_impossible': False}\n"
          ]
        }
      ]
    },
    {
      "cell_type": "code",
      "source": [
        "predictions = algo.test(test)\n",
        "accuracy.rmse(predictions)"
      ],
      "metadata": {
        "colab": {
          "base_uri": "https://localhost:8080/"
        },
        "id": "xTe191HCHBda",
        "outputId": "497984a4-e9af-48f2-9838-1f875ca03a74"
      },
      "execution_count": 21,
      "outputs": [
        {
          "output_type": "stream",
          "name": "stdout",
          "text": [
            "RMSE: 0.7234\n"
          ]
        },
        {
          "output_type": "execute_result",
          "data": {
            "text/plain": [
              "0.7234350150953796"
            ]
          },
          "metadata": {},
          "execution_count": 21
        }
      ]
    },
    {
      "cell_type": "code",
      "source": [
        "from surprise.model_selection import cross_validate\n",
        "algo = SVD(n_factors=50, random_state=42)\n",
        "# cross_validate에는 파라미터를 입력시켜 놓은 모델을 인자로 넣어주자!\n",
        "cross_validate(algo, data, measures=['RMSE','MAE'], cv=5,\n",
        "              verbose=True)"
      ],
      "metadata": {
        "colab": {
          "base_uri": "https://localhost:8080/"
        },
        "id": "fBaPvCuWHBf0",
        "outputId": "d0850532-ecba-468e-c5ad-3ba3e4811b53"
      },
      "execution_count": 23,
      "outputs": [
        {
          "output_type": "stream",
          "name": "stdout",
          "text": [
            "Evaluating RMSE, MAE of algorithm SVD on 5 split(s).\n",
            "\n",
            "                  Fold 1  Fold 2  Fold 3  Fold 4  Fold 5  Mean    Std     \n",
            "RMSE (testset)    0.7492  0.7163  0.7294  0.7023  0.7380  0.7271  0.0164  \n",
            "MAE (testset)     0.5668  0.5359  0.5517  0.5472  0.5660  0.5535  0.0117  \n",
            "Fit time          0.16    0.16    0.15    0.15    0.16    0.16    0.00    \n",
            "Test time         0.01    0.01    0.01    0.01    0.02    0.01    0.01    \n"
          ]
        },
        {
          "output_type": "execute_result",
          "data": {
            "text/plain": [
              "{'fit_time': (0.16339659690856934,\n",
              "  0.1605994701385498,\n",
              "  0.15034842491149902,\n",
              "  0.15247082710266113,\n",
              "  0.15932965278625488),\n",
              " 'test_mae': array([0.5668034 , 0.53590114, 0.55167011, 0.54720517, 0.56597995]),\n",
              " 'test_rmse': array([0.74919182, 0.71634689, 0.72944075, 0.70229644, 0.73798615]),\n",
              " 'test_time': (0.006797313690185547,\n",
              "  0.008078575134277344,\n",
              "  0.007880449295043945,\n",
              "  0.007680416107177734,\n",
              "  0.021819353103637695)}"
            ]
          },
          "metadata": {},
          "execution_count": 23
        }
      ]
    },
    {
      "cell_type": "code",
      "source": [
        "# GridSearch 할 파라미터 사전적으로 정의\n",
        "param_grid = {'n_epochs':[20,40], 'n_factors':[50, 100,200]}\n",
        "\n",
        "# GridSearchCV는 cross_validate와는 달리 인자에 알고리즘 자체를 넣어준다!\n",
        "grid = GridSearchCV(SVD, param_grid=param_grid,\n",
        "                   measures=['rmse','mae'], cv=3) # measure을 소문자로 해줘야함!\n",
        "# GridSearchCV로 데이터 학습시키기\n",
        "grid.fit(data)\n",
        "\n",
        "# 최고의 score와 그 때의 파라미터 출력\n",
        "print(grid.best_score['rmse'])\n",
        "print(grid.best_params['rmse'])"
      ],
      "metadata": {
        "colab": {
          "base_uri": "https://localhost:8080/"
        },
        "id": "Rb7_VZXXHBiW",
        "outputId": "c7f18495-7922-4447-ee8a-f8d68facabd9"
      },
      "execution_count": 24,
      "outputs": [
        {
          "output_type": "stream",
          "name": "stdout",
          "text": [
            "0.7312600028061954\n",
            "{'n_epochs': 20, 'n_factors': 50}\n"
          ]
        }
      ]
    },
    {
      "cell_type": "code",
      "source": [
        "prediction_result = [(pred.uid, pred.iid, pred.est) for pred in prediction]\n",
        "prediction_result=pd.DataFrame(prediction_result)\n",
        "prediction_result.columns=['userId','movieId','rating']\n",
        "prediction_result.sort_values(by=['userId'],ascending=False)"
      ],
      "metadata": {
        "colab": {
          "base_uri": "https://localhost:8080/",
          "height": 424
        },
        "id": "fD1VSmv8HBk0",
        "outputId": "497bf736-3dc4-4046-dc06-5ba2ffc65df9"
      },
      "execution_count": 26,
      "outputs": [
        {
          "output_type": "execute_result",
          "data": {
            "text/plain": [
              "             userId                movieId    rating\n",
              "1261            진                댈러웨이 부인  4.044678\n",
              "1360            진  2020 제11회 젊은작가상 수상작품집  3.905297\n",
              "645             진                 일인칭 단수  3.437525\n",
              "285             진              방금 떠나온 세계  3.990996\n",
              "1074            진              죽음의 수용소에서  4.002839\n",
              "...             ...                    ...       ...\n",
              "535   2mwvg7EagvMa7                 파이 이야기  3.309053\n",
              "659   24BqEWE785rjn               살인자의 기억법  3.849308\n",
              "1275  24BqEWE785rjn              용의자 X의 헌신  4.088735\n",
              "1309  24BqEWE785rjn                    아몬드  3.523215\n",
              "1108  24BqEWE785rjn                     테스  3.956721\n",
              "\n",
              "[1368 rows x 3 columns]"
            ],
            "text/html": [
              "\n",
              "  <div id=\"df-7a37d13d-3adf-47de-8a81-48b276d2c0b1\">\n",
              "    <div class=\"colab-df-container\">\n",
              "      <div>\n",
              "<style scoped>\n",
              "    .dataframe tbody tr th:only-of-type {\n",
              "        vertical-align: middle;\n",
              "    }\n",
              "\n",
              "    .dataframe tbody tr th {\n",
              "        vertical-align: top;\n",
              "    }\n",
              "\n",
              "    .dataframe thead th {\n",
              "        text-align: right;\n",
              "    }\n",
              "</style>\n",
              "<table border=\"1\" class=\"dataframe\">\n",
              "  <thead>\n",
              "    <tr style=\"text-align: right;\">\n",
              "      <th></th>\n",
              "      <th>userId</th>\n",
              "      <th>movieId</th>\n",
              "      <th>rating</th>\n",
              "    </tr>\n",
              "  </thead>\n",
              "  <tbody>\n",
              "    <tr>\n",
              "      <th>1261</th>\n",
              "      <td>진</td>\n",
              "      <td>댈러웨이 부인</td>\n",
              "      <td>4.044678</td>\n",
              "    </tr>\n",
              "    <tr>\n",
              "      <th>1360</th>\n",
              "      <td>진</td>\n",
              "      <td>2020 제11회 젊은작가상 수상작품집</td>\n",
              "      <td>3.905297</td>\n",
              "    </tr>\n",
              "    <tr>\n",
              "      <th>645</th>\n",
              "      <td>진</td>\n",
              "      <td>일인칭 단수</td>\n",
              "      <td>3.437525</td>\n",
              "    </tr>\n",
              "    <tr>\n",
              "      <th>285</th>\n",
              "      <td>진</td>\n",
              "      <td>방금 떠나온 세계</td>\n",
              "      <td>3.990996</td>\n",
              "    </tr>\n",
              "    <tr>\n",
              "      <th>1074</th>\n",
              "      <td>진</td>\n",
              "      <td>죽음의 수용소에서</td>\n",
              "      <td>4.002839</td>\n",
              "    </tr>\n",
              "    <tr>\n",
              "      <th>...</th>\n",
              "      <td>...</td>\n",
              "      <td>...</td>\n",
              "      <td>...</td>\n",
              "    </tr>\n",
              "    <tr>\n",
              "      <th>535</th>\n",
              "      <td>2mwvg7EagvMa7</td>\n",
              "      <td>파이 이야기</td>\n",
              "      <td>3.309053</td>\n",
              "    </tr>\n",
              "    <tr>\n",
              "      <th>659</th>\n",
              "      <td>24BqEWE785rjn</td>\n",
              "      <td>살인자의 기억법</td>\n",
              "      <td>3.849308</td>\n",
              "    </tr>\n",
              "    <tr>\n",
              "      <th>1275</th>\n",
              "      <td>24BqEWE785rjn</td>\n",
              "      <td>용의자 X의 헌신</td>\n",
              "      <td>4.088735</td>\n",
              "    </tr>\n",
              "    <tr>\n",
              "      <th>1309</th>\n",
              "      <td>24BqEWE785rjn</td>\n",
              "      <td>아몬드</td>\n",
              "      <td>3.523215</td>\n",
              "    </tr>\n",
              "    <tr>\n",
              "      <th>1108</th>\n",
              "      <td>24BqEWE785rjn</td>\n",
              "      <td>테스</td>\n",
              "      <td>3.956721</td>\n",
              "    </tr>\n",
              "  </tbody>\n",
              "</table>\n",
              "<p>1368 rows × 3 columns</p>\n",
              "</div>\n",
              "      <button class=\"colab-df-convert\" onclick=\"convertToInteractive('df-7a37d13d-3adf-47de-8a81-48b276d2c0b1')\"\n",
              "              title=\"Convert this dataframe to an interactive table.\"\n",
              "              style=\"display:none;\">\n",
              "        \n",
              "  <svg xmlns=\"http://www.w3.org/2000/svg\" height=\"24px\"viewBox=\"0 0 24 24\"\n",
              "       width=\"24px\">\n",
              "    <path d=\"M0 0h24v24H0V0z\" fill=\"none\"/>\n",
              "    <path d=\"M18.56 5.44l.94 2.06.94-2.06 2.06-.94-2.06-.94-.94-2.06-.94 2.06-2.06.94zm-11 1L8.5 8.5l.94-2.06 2.06-.94-2.06-.94L8.5 2.5l-.94 2.06-2.06.94zm10 10l.94 2.06.94-2.06 2.06-.94-2.06-.94-.94-2.06-.94 2.06-2.06.94z\"/><path d=\"M17.41 7.96l-1.37-1.37c-.4-.4-.92-.59-1.43-.59-.52 0-1.04.2-1.43.59L10.3 9.45l-7.72 7.72c-.78.78-.78 2.05 0 2.83L4 21.41c.39.39.9.59 1.41.59.51 0 1.02-.2 1.41-.59l7.78-7.78 2.81-2.81c.8-.78.8-2.07 0-2.86zM5.41 20L4 18.59l7.72-7.72 1.47 1.35L5.41 20z\"/>\n",
              "  </svg>\n",
              "      </button>\n",
              "      \n",
              "  <style>\n",
              "    .colab-df-container {\n",
              "      display:flex;\n",
              "      flex-wrap:wrap;\n",
              "      gap: 12px;\n",
              "    }\n",
              "\n",
              "    .colab-df-convert {\n",
              "      background-color: #E8F0FE;\n",
              "      border: none;\n",
              "      border-radius: 50%;\n",
              "      cursor: pointer;\n",
              "      display: none;\n",
              "      fill: #1967D2;\n",
              "      height: 32px;\n",
              "      padding: 0 0 0 0;\n",
              "      width: 32px;\n",
              "    }\n",
              "\n",
              "    .colab-df-convert:hover {\n",
              "      background-color: #E2EBFA;\n",
              "      box-shadow: 0px 1px 2px rgba(60, 64, 67, 0.3), 0px 1px 3px 1px rgba(60, 64, 67, 0.15);\n",
              "      fill: #174EA6;\n",
              "    }\n",
              "\n",
              "    [theme=dark] .colab-df-convert {\n",
              "      background-color: #3B4455;\n",
              "      fill: #D2E3FC;\n",
              "    }\n",
              "\n",
              "    [theme=dark] .colab-df-convert:hover {\n",
              "      background-color: #434B5C;\n",
              "      box-shadow: 0px 1px 3px 1px rgba(0, 0, 0, 0.15);\n",
              "      filter: drop-shadow(0px 1px 2px rgba(0, 0, 0, 0.3));\n",
              "      fill: #FFFFFF;\n",
              "    }\n",
              "  </style>\n",
              "\n",
              "      <script>\n",
              "        const buttonEl =\n",
              "          document.querySelector('#df-7a37d13d-3adf-47de-8a81-48b276d2c0b1 button.colab-df-convert');\n",
              "        buttonEl.style.display =\n",
              "          google.colab.kernel.accessAllowed ? 'block' : 'none';\n",
              "\n",
              "        async function convertToInteractive(key) {\n",
              "          const element = document.querySelector('#df-7a37d13d-3adf-47de-8a81-48b276d2c0b1');\n",
              "          const dataTable =\n",
              "            await google.colab.kernel.invokeFunction('convertToInteractive',\n",
              "                                                     [key], {});\n",
              "          if (!dataTable) return;\n",
              "\n",
              "          const docLinkHtml = 'Like what you see? Visit the ' +\n",
              "            '<a target=\"_blank\" href=https://colab.research.google.com/notebooks/data_table.ipynb>data table notebook</a>'\n",
              "            + ' to learn more about interactive tables.';\n",
              "          element.innerHTML = '';\n",
              "          dataTable['output_type'] = 'display_data';\n",
              "          await google.colab.output.renderOutput(dataTable, element);\n",
              "          const docLink = document.createElement('div');\n",
              "          docLink.innerHTML = docLinkHtml;\n",
              "          element.appendChild(docLink);\n",
              "        }\n",
              "      </script>\n",
              "    </div>\n",
              "  </div>\n",
              "  "
            ]
          },
          "metadata": {},
          "execution_count": 26
        }
      ]
    },
    {
      "cell_type": "code",
      "source": [
        "def sortkey_est(pred):\n",
        "        return pred.est\n",
        "predictions.sort(key=sortkey_est, reverse=True)\n",
        "top_predictions = predictions[:30]\n",
        "top_predictions\n",
        "# top_movie_ids = [pred.iid for pred in top_predictions]\n",
        "top_movie_ratings = [pred.est for pred in top_predictions]\n",
        "top_movie_titles = [pred.iid for pred in top_predictions]\n",
        "# 위 3가지를 튜플로 담기\n",
        "# zip함수를 사용해서 각 자료구조(여기선 리스트)의 똑같은 위치에있는 값들을 mapping\n",
        "# zip함수는 참고로 여러개의 문자열의 똑같은 위치들끼리 mapping도 가능!\n",
        "top_movie_preds = [( rating, title) for  rating, title in zip(top_movie_ratings, top_movie_titles)]\n"
      ],
      "metadata": {
        "id": "Bh4dUTPCHBna"
      },
      "execution_count": 27,
      "outputs": []
    },
    {
      "cell_type": "code",
      "source": [
        "top_movie_preds"
      ],
      "metadata": {
        "colab": {
          "base_uri": "https://localhost:8080/"
        },
        "id": "JZvrpBGoHBp4",
        "outputId": "95bb4f10-950b-4e10-f985-04f60239f7da"
      },
      "execution_count": 28,
      "outputs": [
        {
          "output_type": "execute_result",
          "data": {
            "text/plain": [
              "[(4.99363874006277, '안나 카레니나'),\n",
              " (4.879972601847631, '어린 왕자'),\n",
              " (4.871982763538107, '토지'),\n",
              " (4.8657223985075495, '모모'),\n",
              " (4.788753304074694, '달과 6펜스'),\n",
              " (4.7679173385358995, '이방인'),\n",
              " (4.739741211244818, '어린 왕자'),\n",
              " (4.708278628150125, '의지와 표상으로서의 세계'),\n",
              " (4.704925705295769, '동물농장'),\n",
              " (4.696646287104574, '허클베리 핀의 모험'),\n",
              " (4.672605863813168, '모모'),\n",
              " (4.6511598594251184, '노인과 바다'),\n",
              " (4.643934977213455, '이방인'),\n",
              " (4.626371167149917, '데미안'),\n",
              " (4.612229485254874, '남한산성'),\n",
              " (4.6014458175409105, '인간의 조건'),\n",
              " (4.600973846174566, '사서함 110호의 우편물'),\n",
              " (4.600377911053314, '나의 라임 오렌지나무'),\n",
              " (4.583324878593215, '햄릿'),\n",
              " (4.572807828019162, '유진과 유진'),\n",
              " (4.570315356668713, '별'),\n",
              " (4.5665509438246215, '동물농장'),\n",
              " (4.564390852026511, '동물농장'),\n",
              " (4.563895248909693, '댈러웨이 부인'),\n",
              " (4.5516160406457935, '소년이 온다'),\n",
              " (4.547011347658429, '인형의 집'),\n",
              " (4.5440692777224765, '죄와 벌'),\n",
              " (4.538839475523832, '브람스를 좋아하세요...'),\n",
              " (4.536030163560985, '죄와 벌'),\n",
              " (4.52635500345497, '브람스를 좋아하세요...')]"
            ]
          },
          "metadata": {},
          "execution_count": 28
        }
      ]
    },
    {
      "cell_type": "code",
      "source": [
        "top_predictions"
      ],
      "metadata": {
        "colab": {
          "base_uri": "https://localhost:8080/"
        },
        "id": "BpSJ9RoyHBse",
        "outputId": "258d8263-361c-4663-f0cf-1989b13cc71a"
      },
      "execution_count": 29,
      "outputs": [
        {
          "output_type": "execute_result",
          "data": {
            "text/plain": [
              "[Prediction(uid='DgwxAOYkmvrMj', iid='안나 카레니나', r_ui=3.5, est=4.99363874006277, details={'was_impossible': False}),\n",
              " Prediction(uid='Q9L5pJXkeqNb0', iid='어린 왕자', r_ui=3.0, est=4.879972601847631, details={'was_impossible': False}),\n",
              " Prediction(uid='djaxbPXZmPvLw', iid='토지', r_ui=5.0, est=4.871982763538107, details={'was_impossible': False}),\n",
              " Prediction(uid='6NW5QzzJkx1Yo', iid='모모', r_ui=3.5, est=4.8657223985075495, details={'was_impossible': False}),\n",
              " Prediction(uid='djaxbPXZmPvLw', iid='달과 6펜스', r_ui=4.5, est=4.788753304074694, details={'was_impossible': False}),\n",
              " Prediction(uid='6ADvGZ98eqzZl', iid='이방인', r_ui=5.0, est=4.7679173385358995, details={'was_impossible': False}),\n",
              " Prediction(uid='JgkqlD9DaqX0b', iid='어린 왕자', r_ui=5.0, est=4.739741211244818, details={'was_impossible': False}),\n",
              " Prediction(uid='Q9L5pJXkeqNb0', iid='의지와 표상으로서의 세계', r_ui=4.5, est=4.708278628150125, details={'was_impossible': False}),\n",
              " Prediction(uid='Q9L5pJXkeqNb0', iid='동물농장', r_ui=4.0, est=4.704925705295769, details={'was_impossible': False}),\n",
              " Prediction(uid='djaxbPXZmPvLw', iid='허클베리 핀의 모험', r_ui=5.0, est=4.696646287104574, details={'was_impossible': False}),\n",
              " Prediction(uid='2mwvgbGLgqMa7', iid='모모', r_ui=5.0, est=4.672605863813168, details={'was_impossible': False}),\n",
              " Prediction(uid='djaxbPXZmPvLw', iid='노인과 바다', r_ui=5.0, est=4.6511598594251184, details={'was_impossible': False}),\n",
              " Prediction(uid='6ADvG0XPK5zZl', iid='이방인', r_ui=4.5, est=4.643934977213455, details={'was_impossible': False}),\n",
              " Prediction(uid='Q9L5pJXkeqNb0', iid='데미안', r_ui=5.0, est=4.626371167149917, details={'was_impossible': False}),\n",
              " Prediction(uid='6ADvGZ98eqzZl', iid='남한산성', r_ui=4.0, est=4.612229485254874, details={'was_impossible': False}),\n",
              " Prediction(uid='6ADvGZ98eqzZl', iid='인간의 조건', r_ui=4.0, est=4.6014458175409105, details={'was_impossible': False}),\n",
              " Prediction(uid='djaxbPXZmPvLw', iid='사서함 110호의 우편물', r_ui=4.5, est=4.600973846174566, details={'was_impossible': False}),\n",
              " Prediction(uid='djaxbPXZmPvLw', iid='나의 라임 오렌지나무', r_ui=4.5, est=4.600377911053314, details={'was_impossible': False}),\n",
              " Prediction(uid='K8nPvyyY4vYo0', iid='햄릿', r_ui=4.5, est=4.583324878593215, details={'was_impossible': False}),\n",
              " Prediction(uid='djaxbPXZmPvLw', iid='유진과 유진', r_ui=5.0, est=4.572807828019162, details={'was_impossible': False}),\n",
              " Prediction(uid='djaxbPXZmPvLw', iid='별', r_ui=5.0, est=4.570315356668713, details={'was_impossible': False}),\n",
              " Prediction(uid='6NW5QB9Lyx1Yo', iid='동물농장', r_ui=4.0, est=4.5665509438246215, details={'was_impossible': False}),\n",
              " Prediction(uid='K8nPvyyY4vYo0', iid='동물농장', r_ui=5.0, est=4.564390852026511, details={'was_impossible': False}),\n",
              " Prediction(uid='6ADvGZ98eqzZl', iid='댈러웨이 부인', r_ui=4.5, est=4.563895248909693, details={'was_impossible': False}),\n",
              " Prediction(uid='6NW5QB9Lyx1Yo', iid='소년이 온다', r_ui=4.0, est=4.5516160406457935, details={'was_impossible': False}),\n",
              " Prediction(uid='Q9L5pJXkeqNb0', iid='인형의 집', r_ui=3.5, est=4.547011347658429, details={'was_impossible': False}),\n",
              " Prediction(uid='6ADvG0XPK5zZl', iid='죄와 벌', r_ui=5.0, est=4.5440692777224765, details={'was_impossible': False}),\n",
              " Prediction(uid='6NW5QB9Lyx1Yo', iid='브람스를 좋아하세요...', r_ui=4.0, est=4.538839475523832, details={'was_impossible': False}),\n",
              " Prediction(uid='6ADvGZ98eqzZl', iid='죄와 벌', r_ui=5.0, est=4.536030163560985, details={'was_impossible': False}),\n",
              " Prediction(uid='7gdxdr7e9vGYJ', iid='브람스를 좋아하세요...', r_ui=5.0, est=4.52635500345497, details={'was_impossible': False})]"
            ]
          },
          "metadata": {},
          "execution_count": 29
        }
      ]
    },
    {
      "cell_type": "code",
      "source": [
        ""
      ],
      "metadata": {
        "id": "zOi8kFQSHyoW"
      },
      "execution_count": null,
      "outputs": []
    }
  ]
}